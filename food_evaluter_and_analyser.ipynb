{
  "nbformat": 4,
  "nbformat_minor": 0,
  "metadata": {
    "colab": {
      "provenance": []
    },
    "kernelspec": {
      "name": "python3",
      "display_name": "Python 3"
    },
    "language_info": {
      "name": "python"
    }
  },
  "cells": [
    {
      "cell_type": "code",
      "execution_count": null,
      "metadata": {
        "id": "rC9Y8dEyZL_Z"
      },
      "outputs": [],
      "source": [
        "!pip install langchain"
      ]
    },
    {
      "cell_type": "code",
      "source": [
        "!pip install langchain-community"
      ],
      "metadata": {
        "id": "WyzcWmv2ZllB"
      },
      "execution_count": null,
      "outputs": []
    },
    {
      "cell_type": "code",
      "source": [
        "!pip install unstructured"
      ],
      "metadata": {
        "id": "7zMLmwTdZrxU"
      },
      "execution_count": null,
      "outputs": []
    },
    {
      "cell_type": "code",
      "source": [
        "!pip install pdfminer"
      ],
      "metadata": {
        "id": "soFaIJqQZzmV"
      },
      "execution_count": null,
      "outputs": []
    },
    {
      "cell_type": "code",
      "source": [
        "!pip install pi_heif"
      ],
      "metadata": {
        "id": "lkV62k-5akjs"
      },
      "execution_count": null,
      "outputs": []
    },
    {
      "cell_type": "code",
      "source": [
        "!pip install unstructured_inference"
      ],
      "metadata": {
        "id": "q6-qipQSap8L"
      },
      "execution_count": null,
      "outputs": []
    },
    {
      "cell_type": "code",
      "source": [
        "! pip install pdf2image"
      ],
      "metadata": {
        "colab": {
          "base_uri": "https://localhost:8080/"
        },
        "id": "Sq20XxlnbN90",
        "outputId": "a576723c-60c2-4f50-a399-011c079e92b1"
      },
      "execution_count": 6,
      "outputs": [
        {
          "output_type": "stream",
          "name": "stdout",
          "text": [
            "Collecting pdf2image\n",
            "  Downloading pdf2image-1.17.0-py3-none-any.whl.metadata (6.2 kB)\n",
            "Requirement already satisfied: pillow in /usr/local/lib/python3.11/dist-packages (from pdf2image) (11.3.0)\n",
            "Downloading pdf2image-1.17.0-py3-none-any.whl (11 kB)\n",
            "Installing collected packages: pdf2image\n",
            "Successfully installed pdf2image-1.17.0\n"
          ]
        }
      ]
    },
    {
      "cell_type": "code",
      "source": [
        "!pip install pdfminer.six==20201018\n",
        "!pip install unstructured==0.6.7\n"
      ],
      "metadata": {
        "id": "GqZBG9fYcbZs"
      },
      "execution_count": null,
      "outputs": []
    },
    {
      "cell_type": "code",
      "source": [
        "# Install Tesseract engine\n",
        "!apt install tesseract-ocr -y\n",
        "\n",
        "# Install Python bindings\n",
        "!pip install pytesseract\n"
      ],
      "metadata": {
        "colab": {
          "base_uri": "https://localhost:8080/"
        },
        "id": "AaMcrlKocyYa",
        "outputId": "4b407d05-1254-4d95-d2f8-8073e03c166e"
      },
      "execution_count": 3,
      "outputs": [
        {
          "output_type": "stream",
          "name": "stdout",
          "text": [
            "Reading package lists... Done\n",
            "Building dependency tree... Done\n",
            "Reading state information... Done\n",
            "tesseract-ocr is already the newest version (4.1.1-2.1build1).\n",
            "0 upgraded, 0 newly installed, 0 to remove and 35 not upgraded.\n",
            "Collecting pytesseract\n",
            "  Downloading pytesseract-0.3.13-py3-none-any.whl.metadata (11 kB)\n",
            "Requirement already satisfied: packaging>=21.3 in /usr/local/lib/python3.11/dist-packages (from pytesseract) (25.0)\n",
            "Requirement already satisfied: Pillow>=8.0.0 in /usr/local/lib/python3.11/dist-packages (from pytesseract) (11.3.0)\n",
            "Downloading pytesseract-0.3.13-py3-none-any.whl (14 kB)\n",
            "Installing collected packages: pytesseract\n",
            "Successfully installed pytesseract-0.3.13\n"
          ]
        }
      ]
    },
    {
      "cell_type": "code",
      "source": [
        "import nltk\n",
        "nltk.download('punkt_tab')"
      ],
      "metadata": {
        "colab": {
          "base_uri": "https://localhost:8080/"
        },
        "id": "7D0U2GKTc7tZ",
        "outputId": "ca8272b9-d4de-402d-efc3-ce5fa4a9e95e"
      },
      "execution_count": 6,
      "outputs": [
        {
          "output_type": "stream",
          "name": "stderr",
          "text": [
            "[nltk_data] Downloading package punkt_tab to /root/nltk_data...\n",
            "[nltk_data]   Unzipping tokenizers/punkt_tab.zip.\n"
          ]
        },
        {
          "output_type": "execute_result",
          "data": {
            "text/plain": [
              "True"
            ]
          },
          "metadata": {},
          "execution_count": 6
        }
      ]
    },
    {
      "cell_type": "code",
      "source": [
        "import nltk\n",
        "nltk.download('averaged_perceptron_tagger_eng')"
      ],
      "metadata": {
        "colab": {
          "base_uri": "https://localhost:8080/"
        },
        "id": "1cS5C_LydRh2",
        "outputId": "4ad2c366-9121-48b9-c0d6-db8dd95e17f7"
      },
      "execution_count": 9,
      "outputs": [
        {
          "output_type": "stream",
          "name": "stderr",
          "text": [
            "[nltk_data] Downloading package averaged_perceptron_tagger_eng to\n",
            "[nltk_data]     /root/nltk_data...\n",
            "[nltk_data]   Unzipping taggers/averaged_perceptron_tagger_eng.zip.\n"
          ]
        },
        {
          "output_type": "execute_result",
          "data": {
            "text/plain": [
              "True"
            ]
          },
          "metadata": {},
          "execution_count": 9
        }
      ]
    },
    {
      "cell_type": "code",
      "source": [
        "from unstructured.partition.image import partition_image\n",
        "elements = partition_image(filename=\"/content/test_data1.png\")\n",
        "full_text = \"\\n\".join([element.text for element in elements if element.text])\n",
        "print(full_text)\n"
      ],
      "metadata": {
        "colab": {
          "base_uri": "https://localhost:8080/"
        },
        "id": "2VdQUpnOhYeP",
        "outputId": "97539c01-220a-4a78-f22f-84075cb963a3"
      },
      "execution_count": 20,
      "outputs": [
        {
          "output_type": "stream",
          "name": "stdout",
          "text": [
            "Barcode Label\n",
            "Guru\n",
            "Aloo Bhujiya |\n",
            "Net Weight : 250g\n",
            "Ingredients : Besan,\n",
            "Batch : 1000120230424 Edible Oil, Sugar, Salt, MFG Date : 24/04/2023 Masala, Termeric MIP? 120/- tnctusing at Taxes) ‘owder, Poteto\n",
            "Powder, Di its, Best Before 90 Days from MFG Date wt ryfrui\n",
            "NUTRITIONAL FACTS PER 100 GM Energy KCAL : 101 KCAL\n",
            "Protein : 0.38g\n",
            "Carbohydrate : 0.56\n",
            "FAT: 12.4g\n",
            "10001 Sugar: 24.4g\n",
            "Address Line 1. MG Road,Address Line 2,Vadodara,Gujarat-390020.\n",
            "Contact: 9727955514 softwareketan@gmail.com\n",
            "FSSAI No. : 0123456790\n"
          ]
        }
      ]
    },
    {
      "cell_type": "code",
      "source": [
        "!pip install langchain_groq"
      ],
      "metadata": {
        "id": "gbYtgqqikIjy"
      },
      "execution_count": null,
      "outputs": []
    },
    {
      "cell_type": "code",
      "source": [
        "GROQ_API_KEY=\"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\""
      ],
      "metadata": {
        "id": "_RuehmqElPpw"
      },
      "execution_count": 25,
      "outputs": []
    },
    {
      "cell_type": "code",
      "source": [
        "from langchain_groq import ChatGroq\n",
        "model=ChatGroq(model_name=\"llama-3.1-8b-instant\", api_key=GROQ_API_KEY)"
      ],
      "metadata": {
        "id": "brcNmvx1kFdm"
      },
      "execution_count": 27,
      "outputs": []
    },
    {
      "cell_type": "code",
      "source": [
        "from langchain.prompts import PromptTemplate\n",
        "from langchain.chains import LLMChain\n",
        "\n",
        "template = \"\"\"\n",
        "You are an intelligent food label parser.\n",
        "\n",
        "Below is raw text extracted from a packaged food product's label:\n",
        "\n",
        "--- BEGIN TEXT ---\n",
        "{label_text}\n",
        "--- END TEXT ---\n",
        "\n",
        "Extract and return the information in a clean JSON format with the following fields:\n",
        "- brand\n",
        "- product_name\n",
        "- net_weight\n",
        "- ingredients (as a list)\n",
        "- manufacturing_date\n",
        "- best_before\n",
        "- mrp (if available)\n",
        "- nutrition_per_100g: {{ energy_kcal, protein_g, carbohydrate_g, fat_g, sugar_g }}\n",
        "- contact\n",
        "- email\n",
        "- fssai_no\n",
        "- address\n",
        "\n",
        "Respond with only valid JSON.\n",
        "\"\"\"\n",
        "\n",
        "\n",
        "prompt = PromptTemplate(\n",
        "    input_variables=[\"label_text\"],\n",
        "    template=template\n",
        ")"
      ],
      "metadata": {
        "id": "8jvL7D0FlpPB"
      },
      "execution_count": 35,
      "outputs": []
    },
    {
      "cell_type": "code",
      "source": [
        "chain = LLMChain(llm=model, prompt=prompt)\n",
        "response = chain.run(label_text=full_text)\n",
        "print(response)"
      ],
      "metadata": {
        "colab": {
          "base_uri": "https://localhost:8080/"
        },
        "id": "IgVqw0dClzOP",
        "outputId": "41180f04-e77e-485e-d4ed-a9bdca40385c"
      },
      "execution_count": 36,
      "outputs": [
        {
          "output_type": "stream",
          "name": "stdout",
          "text": [
            "```json\n",
            "{\n",
            "  \"brand\": \"Guru\",\n",
            "  \"product_name\": \"Aloo Bhujiya\",\n",
            "  \"net_weight\": 250,\n",
            "  \"ingredients\": [\n",
            "    \"Besan\",\n",
            "    \"Edible Oil\",\n",
            "    \"Sugar\",\n",
            "    \"Salt\",\n",
            "    \"Masala\",\n",
            "    \"Termeric Powder\",\n",
            "    \"Potato Powder\",\n",
            "    \"Diet Soda\"\n",
            "  ],\n",
            "  \"manufacturing_date\": \"24/04/2023\",\n",
            "  \"best_before\": \"90 Days from MFG Date\",\n",
            "  \"mrp\": null,\n",
            "  \"nutrition_per_100g\": {\n",
            "    \"energy_kcal\": 101,\n",
            "    \"protein_g\": 0.38,\n",
            "    \"carbohydrate_g\": 0.56,\n",
            "    \"fat_g\": 12.4,\n",
            "    \"sugar_g\": 24.4\n",
            "  },\n",
            "  \"contact\": \"9727955514\",\n",
            "  \"email\": \"softwareketan@gmail.com\",\n",
            "  \"fssai_no\": \"0123456790\",\n",
            "  \"address\": \"MG Road, Vadodara, Gujarat-390020\"\n",
            "}\n",
            "```\n",
            "Note: The contact number and email address are not typically included in a food label, but I have included them in the response as per your request. Also, I have corrected \"Di its\" to \"Diet Soda\" as it seems to be a typo in the provided text.\n"
          ]
        }
      ]
    },
    {
      "cell_type": "code",
      "source": [
        "import json\n",
        "import re\n",
        "\n",
        "cleaned_response = re.sub(r\"^```json|```$\", \"\", response.strip(), flags=re.MULTILINE).strip()\n",
        "\n",
        "json_end = cleaned_response.rfind(\"}\")\n",
        "if json_end != -1:\n",
        "    cleaned_response = cleaned_response[:json_end+1]\n",
        "\n",
        "try:\n",
        "    product_info = json.loads(cleaned_response)\n",
        "except json.JSONDecodeError as e:\n",
        "    print(cleaned_response)\n",
        "    raise e\n",
        ""
      ],
      "metadata": {
        "id": "SKoDARKuqo8_"
      },
      "execution_count": 43,
      "outputs": []
    },
    {
      "cell_type": "code",
      "source": [
        "from langchain.prompts import PromptTemplate\n",
        "\n",
        "prompt2 = PromptTemplate(\n",
        "    input_variables=[\"product_json\"],\n",
        "    template=\"\"\"\n",
        "You are a health analysis expert. Based on the product details in this JSON:\n",
        "\n",
        "{product_json}\n",
        "\n",
        "Perform the following:\n",
        "1. Classify product type (e.g., snack, beverage, etc.).\n",
        "2. Evaluate nutrition levels and whether they are high/low (fat, sugar, etc.).\n",
        "3. Is this product healthy for general users?\n",
        "4. Would you recommend this to diabetic or heart patients?\n",
        "5. Are any claims misleading?\n",
        "\n",
        "Respond in a structured JSON format.\n",
        "\"\"\")\n",
        "\n",
        "chain2 = LLMChain(llm=model, prompt=prompt2)\n"
      ],
      "metadata": {
        "id": "oER-uHperrIR"
      },
      "execution_count": 49,
      "outputs": []
    },
    {
      "cell_type": "code",
      "source": [
        "response2 = chain2.run(product_json=cleaned_response)"
      ],
      "metadata": {
        "id": "E3zTY2qDsOU_"
      },
      "execution_count": 50,
      "outputs": []
    },
    {
      "cell_type": "code",
      "source": [
        "\n",
        "chain2 = LLMChain(llm=model, prompt=prompt2)\n",
        "\n",
        "product_json_str = json.dumps(cleaned_response, indent=2)\n",
        "\n",
        "response2 = chain2.run(product_json=product_json_str)"
      ],
      "metadata": {
        "id": "YtGcvbads-H5"
      },
      "execution_count": 59,
      "outputs": []
    },
    {
      "cell_type": "code",
      "source": [
        "import json\n",
        "\n",
        "try:\n",
        "    response_data = json.loads(response2)\n",
        "    print(json.dumps(response_data, indent=4, ensure_ascii=False))\n",
        "except json.JSONDecodeError:\n",
        "    print(\"Response is not valid JSON:\")\n",
        "    print(response2)\n"
      ],
      "metadata": {
        "colab": {
          "base_uri": "https://localhost:8080/"
        },
        "id": "F3F1Hoymti1g",
        "outputId": "0d8b6f07-39fc-46b3-a39b-f26ab888e495"
      },
      "execution_count": 64,
      "outputs": [
        {
          "output_type": "stream",
          "name": "stdout",
          "text": [
            "Response is not valid JSON:\n",
            "**Health Analysis Report**\n",
            "\n",
            "```json\n",
            "{\n",
            "  \"product_name\": \"Aloo Bhujiya\",\n",
            "  \"product_type\": \"snack\",\n",
            "  \"nutrition_level\": {\n",
            "    \"energy_kcal\": \"high\",\n",
            "    \"protein_g\": \"low\",\n",
            "    \"carbohydrate_g\": \"low\",\n",
            "    \"fat_g\": \"high\",\n",
            "    \"sugar_g\": \"very high\"\n",
            "  },\n",
            "  \"healthiness\": \"unhealthy\",\n",
            "  \"recommended_for\": {\n",
            "    \"diabetic_patients\": \"no\",\n",
            "    \"heart_patients\": \"no\"\n",
            "  },\n",
            "  \"claims_misleading\": \"yes\"\n",
            "}\n",
            "```\n",
            "\n",
            "**Explanation**\n",
            "\n",
            "1. **Product Type**: Based on the ingredients and product name, I classify the product as a snack.\n",
            "2. **Nutrition Levels**: \n",
            "   - **Energy Kcal**: High (101 kcal per 100g)\n",
            "   - **Protein G**: Low (0.38g per 100g)\n",
            "   - **Carbohydrate G**: Low (0.56g per 100g)\n",
            "   - **Fat G**: High (12.4g per 100g)\n",
            "   - **Sugar G**: Very High (24.4g per 100g)\n",
            "3. **Healthiness**: The high levels of sugar and fat in the product make it unhealthy for general users.\n",
            "4. **Recommended for**: \n",
            "   - **Diabetic Patients**: No, due to the high sugar content.\n",
            "   - **Heart Patients**: No, due to the high fat content.\n",
            "5. **Claims Misleading**: Yes, the product is labeled as \"Aloo Bhujiya\", which might imply that potatoes are the primary ingredient, but the ingredients list reveals that potato powder is used instead. This might be considered misleading.\n",
            "\n",
            "**Recommendations**: To make this product healthier, consider reducing the sugar and fat content, and use more natural ingredients. Additionally, consider labeling the product more accurately to reflect its ingredients.\n"
          ]
        }
      ]
    },
    {
      "cell_type": "code",
      "source": [],
      "metadata": {
        "id": "YCYBzD4VvRa1"
      },
      "execution_count": null,
      "outputs": []
    }
  ]
}